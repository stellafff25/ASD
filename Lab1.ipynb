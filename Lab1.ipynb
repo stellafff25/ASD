{
 "cells": [
  {
   "metadata": {},
   "cell_type": "markdown",
   "source": "### 8. Обчислити суму арифметичної прогресії за допомогою рекурсії.",
   "id": "36527a8fc302e05e"
  },
  {
   "metadata": {
    "collapsed": true,
    "ExecuteTime": {
     "end_time": "2025-02-12T13:52:44.607164Z",
     "start_time": "2025-02-12T13:52:44.588038Z"
    }
   },
   "cell_type": "code",
   "source": [
    "def arithmetic_sum(a, d, n):\n",
    "    if n == 1:\n",
    "        return a\n",
    "    return arithmetic_sum(a, d, n - 1) + (a + (n - 1) * d)"
   ],
   "id": "initial_id",
   "outputs": [],
   "execution_count": 5
  },
  {
   "metadata": {
    "ExecuteTime": {
     "end_time": "2025-02-12T13:52:44.638188Z",
     "start_time": "2025-02-12T13:52:44.615070Z"
    }
   },
   "cell_type": "code",
   "source": [
    "a = 2\n",
    "d = 3\n",
    "n = 5\n",
    "\n",
    "arithmetic_sum(a, d, n)"
   ],
   "id": "bc625c8940db6c4c",
   "outputs": [
    {
     "data": {
      "text/plain": [
       "40"
      ]
     },
     "execution_count": 6,
     "metadata": {},
     "output_type": "execute_result"
    }
   ],
   "execution_count": 6
  },
  {
   "metadata": {},
   "cell_type": "markdown",
   "source": "### Реалізувати алгоритм для розв’язання задачі «Ханойські вежі». Виписати послідовність ходів для перекладання n дисків вежі (n = 2; 3; 4; 5 дисків, використати онлайн гру).",
   "id": "efee573165e6c799"
  },
  {
   "metadata": {
    "ExecuteTime": {
     "end_time": "2025-02-12T14:12:02.828581Z",
     "start_time": "2025-02-12T14:12:02.821505Z"
    }
   },
   "cell_type": "code",
   "source": [
    "def hanoi(n, a, c, b):\n",
    "    if n == 1:\n",
    "        print(f\"Перемістити диск 1 з {a} на {c}\")\n",
    "        return\n",
    "    hanoi(n - 1, a, b, c)\n",
    "    print(f\"Перемістити диск {n} з {a} на {c}\")\n",
    "    hanoi(n - 1, b, c, a)"
   ],
   "id": "76e495a2b92767e2",
   "outputs": [],
   "execution_count": 10
  },
  {
   "metadata": {
    "ExecuteTime": {
     "end_time": "2025-02-12T14:12:04.722271Z",
     "start_time": "2025-02-12T14:12:04.711481Z"
    }
   },
   "cell_type": "code",
   "source": [
    "print(\"Для n = 2:\")\n",
    "hanoi(2, 'A', 'C', 'B')\n",
    "\n",
    "print(\"\\nДля n = 3:\")\n",
    "hanoi(3, 'A', 'C', 'B')\n",
    "\n",
    "print(\"\\nДля n = 4:\")\n",
    "hanoi(4, 'A', 'C', 'B')\n",
    "\n",
    "print(\"\\nДля n = 5:\")\n",
    "hanoi(5, 'A', 'C', 'B')"
   ],
   "id": "b02ed057bce87309",
   "outputs": [
    {
     "name": "stdout",
     "output_type": "stream",
     "text": [
      "Для n = 2:\n",
      "Перемістити диск 1 з A на B\n",
      "Перемістити диск 2 з A на C\n",
      "Перемістити диск 1 з B на C\n",
      "\n",
      "Для n = 3:\n",
      "Перемістити диск 1 з A на C\n",
      "Перемістити диск 2 з A на B\n",
      "Перемістити диск 1 з C на B\n",
      "Перемістити диск 3 з A на C\n",
      "Перемістити диск 1 з B на A\n",
      "Перемістити диск 2 з B на C\n",
      "Перемістити диск 1 з A на C\n",
      "\n",
      "Для n = 4:\n",
      "Перемістити диск 1 з A на B\n",
      "Перемістити диск 2 з A на C\n",
      "Перемістити диск 1 з B на C\n",
      "Перемістити диск 3 з A на B\n",
      "Перемістити диск 1 з C на A\n",
      "Перемістити диск 2 з C на B\n",
      "Перемістити диск 1 з A на B\n",
      "Перемістити диск 4 з A на C\n",
      "Перемістити диск 1 з B на C\n",
      "Перемістити диск 2 з B на A\n",
      "Перемістити диск 1 з C на A\n",
      "Перемістити диск 3 з B на C\n",
      "Перемістити диск 1 з A на B\n",
      "Перемістити диск 2 з A на C\n",
      "Перемістити диск 1 з B на C\n",
      "\n",
      "Для n = 5:\n",
      "Перемістити диск 1 з A на C\n",
      "Перемістити диск 2 з A на B\n",
      "Перемістити диск 1 з C на B\n",
      "Перемістити диск 3 з A на C\n",
      "Перемістити диск 1 з B на A\n",
      "Перемістити диск 2 з B на C\n",
      "Перемістити диск 1 з A на C\n",
      "Перемістити диск 4 з A на B\n",
      "Перемістити диск 1 з C на B\n",
      "Перемістити диск 2 з C на A\n",
      "Перемістити диск 1 з B на A\n",
      "Перемістити диск 3 з C на B\n",
      "Перемістити диск 1 з A на C\n",
      "Перемістити диск 2 з A на B\n",
      "Перемістити диск 1 з C на B\n",
      "Перемістити диск 5 з A на C\n",
      "Перемістити диск 1 з B на A\n",
      "Перемістити диск 2 з B на C\n",
      "Перемістити диск 1 з A на C\n",
      "Перемістити диск 3 з B на A\n",
      "Перемістити диск 1 з C на B\n",
      "Перемістити диск 2 з C на A\n",
      "Перемістити диск 1 з B на A\n",
      "Перемістити диск 4 з B на C\n",
      "Перемістити диск 1 з A на C\n",
      "Перемістити диск 2 з A на B\n",
      "Перемістити диск 1 з C на B\n",
      "Перемістити диск 3 з A на C\n",
      "Перемістити диск 1 з B на A\n",
      "Перемістити диск 2 з B на C\n",
      "Перемістити диск 1 з A на C\n"
     ]
    }
   ],
   "execution_count": 11
  },
  {
   "metadata": {},
   "cell_type": "code",
   "outputs": [],
   "execution_count": null,
   "source": "",
   "id": "55efbd447cd74e8e"
  }
 ],
 "metadata": {
  "kernelspec": {
   "display_name": "Python 3",
   "language": "python",
   "name": "python3"
  },
  "language_info": {
   "codemirror_mode": {
    "name": "ipython",
    "version": 2
   },
   "file_extension": ".py",
   "mimetype": "text/x-python",
   "name": "python",
   "nbconvert_exporter": "python",
   "pygments_lexer": "ipython2",
   "version": "2.7.6"
  }
 },
 "nbformat": 4,
 "nbformat_minor": 5
}
