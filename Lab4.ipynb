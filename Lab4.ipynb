{
 "cells": [
  {
   "metadata": {},
   "cell_type": "markdown",
   "source": [
    "## Lab №4\n",
    "### Data Structures: Stacks, Queues"
   ],
   "id": "8833ae6a5a383bc0"
  },
  {
   "metadata": {},
   "cell_type": "markdown",
   "source": "### Part 1",
   "id": "dc296564ef1e118d"
  },
  {
   "metadata": {},
   "cell_type": "markdown",
   "source": "#### Circular Queue",
   "id": "8a17a74c9148c991"
  },
  {
   "metadata": {
    "ExecuteTime": {
     "end_time": "2025-04-26T14:03:23.258990Z",
     "start_time": "2025-04-26T14:03:23.236183Z"
    }
   },
   "cell_type": "code",
   "source": [
    "class CircularQueue:\n",
    "    def __init__(self, capacity):\n",
    "        self.capacity = capacity\n",
    "        self.queue = [None] * capacity\n",
    "        self.front = 0\n",
    "        self.rear = 0\n",
    "        self.size = 0\n",
    "\n",
    "    def is_empty(self):\n",
    "        return self.size == 0\n",
    "\n",
    "    def is_full(self):\n",
    "        return self.size == self.capacity\n",
    "\n",
    "    def enqueue(self, item):\n",
    "        if self.is_full():\n",
    "            print(\"Черга заповнена!\")\n",
    "            return\n",
    "        self.queue[self.rear] = item\n",
    "        self.rear = (self.rear + 1) % self.capacity\n",
    "        self.size += 1\n",
    "        print(f\"Додано: {item}\")\n",
    "\n",
    "    def dequeue(self):\n",
    "        if self.is_empty():\n",
    "            print(\"Черга порожня!\")\n",
    "            return\n",
    "        item = self.queue[self.front]\n",
    "        self.queue[self.front] = None\n",
    "        self.front = (self.front + 1) % self.capacity\n",
    "        self.size -= 1\n",
    "        print(f\"Видалено: {item}\")\n",
    "\n",
    "    def display(self):\n",
    "        if self.is_empty():\n",
    "            print(\"Черга порожня!\")\n",
    "            return\n",
    "        print(\"Поточний стан черги:\", end=\" \")\n",
    "        index = self.front\n",
    "        for _ in range(self.size):\n",
    "            print(self.queue[index], end=\" \")\n",
    "            index = (index + 1) % self.capacity\n",
    "        print()\n",
    "\n"
   ],
   "id": "5a09050606f2f83a",
   "outputs": [],
   "execution_count": 19
  },
  {
   "metadata": {
    "ExecuteTime": {
     "end_time": "2025-04-26T14:03:23.273876Z",
     "start_time": "2025-04-26T14:03:23.267684Z"
    }
   },
   "cell_type": "code",
   "source": [
    "queue = CircularQueue(5)\n",
    "\n",
    "queue.enqueue(10)\n",
    "queue.enqueue(20)\n",
    "queue.enqueue(30)\n",
    "queue.display()\n",
    "\n",
    "queue.dequeue()\n",
    "queue.display()\n",
    "\n",
    "queue.enqueue(40)\n",
    "queue.enqueue(50)\n",
    "queue.enqueue(60)\n",
    "queue.enqueue(70)\n",
    "queue.display()\n"
   ],
   "id": "a808cb73cd32b058",
   "outputs": [
    {
     "name": "stdout",
     "output_type": "stream",
     "text": [
      "Додано: 10\n",
      "Додано: 20\n",
      "Додано: 30\n",
      "Поточний стан черги: 10 20 30 \n",
      "Видалено: 10\n",
      "Поточний стан черги: 20 30 \n",
      "Додано: 40\n",
      "Додано: 50\n",
      "Додано: 60\n",
      "Черга заповнена!\n",
      "Поточний стан черги: 20 30 40 50 60 \n"
     ]
    }
   ],
   "execution_count": 20
  },
  {
   "metadata": {},
   "cell_type": "markdown",
   "source": "#### List",
   "id": "74a259aa5e01b7e9"
  },
  {
   "metadata": {
    "ExecuteTime": {
     "end_time": "2025-04-26T14:03:23.321934Z",
     "start_time": "2025-04-26T14:03:23.298783Z"
    }
   },
   "cell_type": "code",
   "source": [
    "class Node:\n",
    "    def __init__(self, value):\n",
    "        self.value = value\n",
    "        self.next = None\n",
    "\n",
    "class ListQueue:\n",
    "    def __init__(self):\n",
    "        self.front = None\n",
    "        self.rear = None\n",
    "\n",
    "    def is_empty(self):\n",
    "        return self.front is None\n",
    "\n",
    "    def enqueue(self, item):\n",
    "        new_node = Node(item)\n",
    "        if self.rear is None:\n",
    "            self.front = self.rear = new_node\n",
    "        else:\n",
    "            self.rear.next = new_node\n",
    "            self.rear = new_node\n",
    "        print(f\"Додано: {item}\")\n",
    "\n",
    "    def dequeue(self):\n",
    "        if self.is_empty():\n",
    "            print(\"Черга порожня!\")\n",
    "            return\n",
    "        item = self.front.value\n",
    "        self.front = self.front.next\n",
    "        if self.front is None:\n",
    "            self.rear = None\n",
    "        print(f\"Видалено: {item}\")\n",
    "\n",
    "    def display(self):\n",
    "        if self.is_empty():\n",
    "            print(\"Черга порожня!\")\n",
    "            return\n",
    "        print(\"Поточний стан черги:\", end=\" \")\n",
    "        current = self.front\n",
    "        while current:\n",
    "            print(current.value, end=\" \")\n",
    "            current = current.next\n",
    "        print()\n"
   ],
   "id": "d146f13716685c3d",
   "outputs": [],
   "execution_count": 21
  },
  {
   "metadata": {
    "ExecuteTime": {
     "end_time": "2025-04-26T14:03:23.352435Z",
     "start_time": "2025-04-26T14:03:23.339240Z"
    }
   },
   "cell_type": "code",
   "source": [
    "queue = ListQueue()\n",
    "\n",
    "queue.enqueue(100)\n",
    "queue.enqueue(200)\n",
    "queue.enqueue(300)\n",
    "queue.display()\n",
    "\n",
    "queue.dequeue()\n",
    "queue.display()\n",
    "\n",
    "queue.enqueue(400)\n",
    "queue.enqueue(500)\n",
    "queue.display()"
   ],
   "id": "d0d0f66097ed4712",
   "outputs": [
    {
     "name": "stdout",
     "output_type": "stream",
     "text": [
      "Додано: 100\n",
      "Додано: 200\n",
      "Додано: 300\n",
      "Поточний стан черги: 100 200 300 \n",
      "Видалено: 100\n",
      "Поточний стан черги: 200 300 \n",
      "Додано: 400\n",
      "Додано: 500\n",
      "Поточний стан черги: 200 300 400 500 \n"
     ]
    }
   ],
   "execution_count": 22
  },
  {
   "metadata": {},
   "cell_type": "markdown",
   "source": "#### Two Stacks in One Array",
   "id": "c7bed5e155eae33c"
  },
  {
   "metadata": {
    "ExecuteTime": {
     "end_time": "2025-04-26T14:03:23.384005Z",
     "start_time": "2025-04-26T14:03:23.370545Z"
    }
   },
   "cell_type": "code",
   "source": [
    "class TwoStacks:\n",
    "    def __init__(self, capacity):\n",
    "        self.capacity = capacity\n",
    "        self.array = [None] * capacity\n",
    "        self.top1 = -1\n",
    "        self.top2 = capacity\n",
    "\n",
    "    def is_full(self):\n",
    "        return self.top1 + 1 == self.top2\n",
    "\n",
    "    def push1(self, value):\n",
    "        if self.is_full():\n",
    "            print(\"Переповнення масиву! Неможливо додати в стек 1.\")\n",
    "            return\n",
    "        self.top1 += 1\n",
    "        self.array[self.top1] = value\n",
    "        print(f\"Додано у стек 1: {value}\")\n",
    "\n",
    "    def push2(self, value):\n",
    "        if self.is_full():\n",
    "            print(\"Переповнення масиву! Неможливо додати в стек 2.\")\n",
    "            return\n",
    "        self.top2 -= 1\n",
    "        self.array[self.top2] = value\n",
    "        print(f\"Додано у стек 2: {value}\")\n",
    "\n",
    "    def pop1(self):\n",
    "        if self.top1 == -1:\n",
    "            print(\"Стек 1 порожній!\")\n",
    "            return\n",
    "        value = self.array[self.top1]\n",
    "        self.array[self.top1] = None\n",
    "        self.top1 -= 1\n",
    "        print(f\"Видалено зі стеку 1: {value}\")\n",
    "\n",
    "    def pop2(self):\n",
    "        if self.top2 == self.capacity:\n",
    "            print(\"Стек 2 порожній!\")\n",
    "            return\n",
    "        value = self.array[self.top2]\n",
    "        self.array[self.top2] = None\n",
    "        self.top2 += 1\n",
    "        print(f\"Видалено зі стеку 2: {value}\")\n",
    "\n",
    "    def display(self):\n",
    "        print(\"Масив:\", self.array)\n"
   ],
   "id": "a6e275edc7a2aaf7",
   "outputs": [],
   "execution_count": 23
  },
  {
   "metadata": {
    "ExecuteTime": {
     "end_time": "2025-04-26T14:03:23.415491Z",
     "start_time": "2025-04-26T14:03:23.403024Z"
    }
   },
   "cell_type": "code",
   "source": [
    "stacks = TwoStacks(10)\n",
    "\n",
    "stacks.push1(10)\n",
    "stacks.push1(20)\n",
    "stacks.push2(30)\n",
    "stacks.push2(40)\n",
    "stacks.display()\n",
    "\n",
    "stacks.pop1()\n",
    "stacks.pop2()\n",
    "stacks.display()"
   ],
   "id": "3264ea41dae8e087",
   "outputs": [
    {
     "name": "stdout",
     "output_type": "stream",
     "text": [
      "Додано у стек 1: 10\n",
      "Додано у стек 1: 20\n",
      "Додано у стек 2: 30\n",
      "Додано у стек 2: 40\n",
      "Масив: [10, 20, None, None, None, None, None, None, 40, 30]\n",
      "Видалено зі стеку 1: 20\n",
      "Видалено зі стеку 2: 40\n",
      "Масив: [10, None, None, None, None, None, None, None, None, 30]\n"
     ]
    }
   ],
   "execution_count": 24
  },
  {
   "metadata": {},
   "cell_type": "markdown",
   "source": "#### One Stack using List",
   "id": "c13d40227f694fb9"
  },
  {
   "metadata": {
    "ExecuteTime": {
     "end_time": "2025-04-26T14:03:23.446965Z",
     "start_time": "2025-04-26T14:03:23.432766Z"
    }
   },
   "cell_type": "code",
   "source": [
    "class Node:\n",
    "    def __init__(self, value):\n",
    "        self.value = value\n",
    "        self.next = None\n",
    "\n",
    "class StackList:\n",
    "    def __init__(self):\n",
    "        self.top = None\n",
    "\n",
    "    def is_empty(self):\n",
    "        return self.top is None\n",
    "\n",
    "    def push(self, value):\n",
    "        new_node = Node(value)\n",
    "        new_node.next = self.top\n",
    "        self.top = new_node\n",
    "        print(f\"Додано у стек: {value}\")\n",
    "\n",
    "    def pop(self):\n",
    "        if self.is_empty():\n",
    "            print(\"Стек порожній!\")\n",
    "            return\n",
    "        value = self.top.value\n",
    "        self.top = self.top.next\n",
    "        print(f\"Видалено зі стеку: {value}\")\n",
    "\n",
    "    def display(self):\n",
    "        if self.is_empty():\n",
    "            print(\"Стек порожній!\")\n",
    "            return\n",
    "        print(\"Поточний стан стеку:\", end=\" \")\n",
    "        current = self.top\n",
    "        while current:\n",
    "            print(current.value, end=\" \")\n",
    "            current = current.next\n",
    "        print()\n"
   ],
   "id": "c59171071f2925ae",
   "outputs": [],
   "execution_count": 25
  },
  {
   "metadata": {
    "ExecuteTime": {
     "end_time": "2025-04-26T14:03:23.477914Z",
     "start_time": "2025-04-26T14:03:23.465129Z"
    }
   },
   "cell_type": "code",
   "source": [
    "stack = StackList()\n",
    "\n",
    "stack.push(10)\n",
    "stack.push(20)\n",
    "stack.push(30)\n",
    "stack.display()\n",
    "\n",
    "stack.pop()\n",
    "stack.display()"
   ],
   "id": "5134b4e068df7887",
   "outputs": [
    {
     "name": "stdout",
     "output_type": "stream",
     "text": [
      "Додано у стек: 10\n",
      "Додано у стек: 20\n",
      "Додано у стек: 30\n",
      "Поточний стан стеку: 30 20 10 \n",
      "Видалено зі стеку: 30\n",
      "Поточний стан стеку: 20 10 \n"
     ]
    }
   ],
   "execution_count": 26
  },
  {
   "metadata": {},
   "cell_type": "markdown",
   "source": "### Part 2",
   "id": "b455b25bb0fbe9de"
  },
  {
   "metadata": {
    "ExecuteTime": {
     "end_time": "2025-04-26T14:03:23.508062Z",
     "start_time": "2025-04-26T14:03:23.494093Z"
    }
   },
   "cell_type": "code",
   "source": [
    "class Stack:\n",
    "    def __init__(self):\n",
    "        self.items = []\n",
    "\n",
    "    def is_empty(self):\n",
    "        return not self.items\n",
    "\n",
    "    def push(self, item):\n",
    "        self.items.append(item)\n",
    "\n",
    "    def pop(self):\n",
    "        return self.items.pop() if not self.is_empty() else None\n",
    "\n",
    "    def peek(self):\n",
    "        return self.items[-1] if not self.is_empty() else None\n",
    "\n",
    "def precedence(op):\n",
    "    if op in ('*', '/'):\n",
    "        return 2\n",
    "    if op in ('+', '-'):\n",
    "        return 1\n",
    "    return 0\n",
    "\n",
    "def infix_to_postfix(expression):\n",
    "    stack = Stack()\n",
    "    output = []\n",
    "\n",
    "    for char in expression:\n",
    "        if char.isalpha():\n",
    "            output.append(char)\n",
    "        elif char == '(':\n",
    "            stack.push(char)\n",
    "        elif char == ')':\n",
    "            while not stack.is_empty() and stack.peek() != '(':\n",
    "                output.append(stack.pop())\n",
    "            stack.pop()\n",
    "        else:\n",
    "            while (not stack.is_empty() and\n",
    "                   precedence(stack.peek()) >= precedence(char)):\n",
    "                output.append(stack.pop())\n",
    "            stack.push(char)\n",
    "\n",
    "    while not stack.is_empty():\n",
    "        output.append(stack.pop())\n",
    "\n",
    "    return ''.join(output)"
   ],
   "id": "7fead4cce6333cdb",
   "outputs": [],
   "execution_count": 27
  },
  {
   "metadata": {
    "ExecuteTime": {
     "end_time": "2025-04-26T14:12:48.346848Z",
     "start_time": "2025-04-26T14:12:48.331233Z"
    }
   },
   "cell_type": "code",
   "source": [
    "expressions = [\"(А-B-С)/D-E*F\", \"(A+B)*C-(D+E)/F\", \"A/(B-C)+D*(E-F)\", \"(A*B+C)/D-F/E\"]\n",
    "for i in range(len(expressions)):\n",
    "    postfix = infix_to_postfix(expressions[i])\n",
    "    print(f\"{i + 1}.\", postfix)\n"
   ],
   "id": "366f74d874675aa4",
   "outputs": [
    {
     "name": "stdout",
     "output_type": "stream",
     "text": [
      "1. АB-С-D/EF*-\n",
      "2. AB+C*DE+F/-\n",
      "3. ABC-/DEF-*+\n",
      "4. AB*C+D/FE/-\n"
     ]
    }
   ],
   "execution_count": 35
  }
 ],
 "metadata": {
  "kernelspec": {
   "display_name": "Python 3",
   "language": "python",
   "name": "python3"
  },
  "language_info": {
   "codemirror_mode": {
    "name": "ipython",
    "version": 2
   },
   "file_extension": ".py",
   "mimetype": "text/x-python",
   "name": "python",
   "nbconvert_exporter": "python",
   "pygments_lexer": "ipython2",
   "version": "2.7.6"
  }
 },
 "nbformat": 4,
 "nbformat_minor": 5
}
