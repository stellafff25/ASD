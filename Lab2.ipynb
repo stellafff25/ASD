{
 "cells": [
  {
   "metadata": {},
   "cell_type": "markdown",
   "source": [
    "# Laboratory work No. 2\n",
    "## Array Sorting Methods\n",
    "### Variant 1"
   ],
   "id": "59b72fda9d31f1cf"
  },
  {
   "metadata": {
    "collapsed": true,
    "ExecuteTime": {
     "end_time": "2025-03-08T12:01:23.437642Z",
     "start_time": "2025-03-08T12:01:23.429430Z"
    }
   },
   "cell_type": "code",
   "source": [
    "import numpy as np\n",
    "import time\n",
    "from math import log"
   ],
   "id": "initial_id",
   "outputs": [],
   "execution_count": 27
  },
  {
   "metadata": {},
   "cell_type": "markdown",
   "source": "### Insertion sort",
   "id": "eb20ffa5c9c82c52"
  },
  {
   "metadata": {
    "ExecuteTime": {
     "end_time": "2025-03-08T12:01:23.453410Z",
     "start_time": "2025-03-08T12:01:23.443675Z"
    }
   },
   "cell_type": "code",
   "source": [
    "def insertion_sort(array):\n",
    "    comparisons = 0\n",
    "    swaps = 0\n",
    "    array_length = len(array)\n",
    "    for i in range(array_length):\n",
    "        key = array[i]\n",
    "        j = i - 1\n",
    "        while j >= 0 and array[j] > key:\n",
    "            comparisons += 1\n",
    "            array[j + 1] = array[j]\n",
    "            swaps += 1\n",
    "            j -= 1\n",
    "        array[j + 1] = key\n",
    "    return array, comparisons, swaps"
   ],
   "id": "d6fd7d037011f5e6",
   "outputs": [],
   "execution_count": 28
  },
  {
   "metadata": {
    "ExecuteTime": {
     "end_time": "2025-03-08T12:01:23.484861Z",
     "start_time": "2025-03-08T12:01:23.470368Z"
    }
   },
   "cell_type": "code",
   "source": [
    "array_1 = np.random.randint(1, 100, size=10).tolist()\n",
    "print(array_1)\n",
    "sorted_array_ins, comparisons_ins, swaps_ins = insertion_sort(array_1)\n",
    "print(sorted_array_ins, \" Comprasions: \", comparisons_ins, \" Swaps: \", swaps_ins)"
   ],
   "id": "3195ca4fdcf1bbcb",
   "outputs": [
    {
     "name": "stdout",
     "output_type": "stream",
     "text": [
      "[14, 86, 68, 26, 31, 83, 85, 74, 46, 13]\n",
      "[13, 14, 26, 31, 46, 68, 74, 83, 85, 86]  Comprasions:  24  Swaps:  24\n"
     ]
    }
   ],
   "execution_count": 29
  },
  {
   "metadata": {},
   "cell_type": "markdown",
   "source": "### Shell Method",
   "id": "97aa0688fa3cb750"
  },
  {
   "metadata": {
    "ExecuteTime": {
     "end_time": "2025-03-08T12:01:23.531794Z",
     "start_time": "2025-03-08T12:01:23.517284Z"
    }
   },
   "cell_type": "code",
   "source": [
    "def shell_sort(array):\n",
    "    n = len(array)\n",
    "    comparisons = 0\n",
    "    swaps = 0\n",
    "\n",
    "    gap = 1\n",
    "    while gap < n // 3:\n",
    "        gap = 3 * gap + 1\n",
    "\n",
    "    while gap > 0:\n",
    "        for i in range(gap, n):\n",
    "            temp = array[i]\n",
    "            j = i\n",
    "            while j >= gap:\n",
    "                comparisons += 1\n",
    "                if array[j - gap] > temp:\n",
    "                    array[j] = array[j - gap]\n",
    "                    j -= gap\n",
    "                    swaps += 1\n",
    "                else:\n",
    "                    break\n",
    "            array[j] = temp\n",
    "        gap //= 3\n",
    "\n",
    "    return array, comparisons, swaps"
   ],
   "id": "118809420191adb",
   "outputs": [],
   "execution_count": 30
  },
  {
   "metadata": {
    "ExecuteTime": {
     "end_time": "2025-03-08T12:01:23.547184Z",
     "start_time": "2025-03-08T12:01:23.538183Z"
    }
   },
   "cell_type": "code",
   "source": [
    "array_2 = np.random.randint(1, 100, size=10).tolist()\n",
    "print(array_2)\n",
    "sorted_array_shl, comparisons_shl, swaps_shl = shell_sort(array_2)\n",
    "print(sorted_array_shl, \" Comprasions: \", comparisons_shl, \" Swaps: \", swaps_shl)"
   ],
   "id": "8b5d60f29426600a",
   "outputs": [
    {
     "name": "stdout",
     "output_type": "stream",
     "text": [
      "[44, 76, 94, 84, 79, 97, 46, 23, 4, 66]\n",
      "[4, 23, 44, 46, 66, 76, 79, 84, 94, 97]  Comprasions:  25  Swaps:  14\n"
     ]
    }
   ],
   "execution_count": 31
  },
  {
   "metadata": {},
   "cell_type": "markdown",
   "source": "### Comparison of methods",
   "id": "22a4e804bbbd4485"
  },
  {
   "metadata": {
    "ExecuteTime": {
     "end_time": "2025-03-08T12:01:23.577850Z",
     "start_time": "2025-03-08T12:01:23.563183Z"
    }
   },
   "cell_type": "code",
   "source": [
    "def time_of_methods(size):\n",
    "    array_ins = np.random.randint(1, 10001, size=size).tolist()\n",
    "    array_shl = array_ins.copy()\n",
    "    print(f\"\\nSize of massive: {size}\")\n",
    "\n",
    "    print(\"Insertion sort:\")\n",
    "    start_time_ins = time.time()\n",
    "    sorted_array_ins, comparisons_ins, swaps_ins = insertion_sort(array_ins)\n",
    "    end_time_ins = time.time()\n",
    "    print(\"Theoretical Compasions: \", (2 + size) * (size - 1) // 4, \"Theoretical Swaps: \", (size - 1) * size // 4)\n",
    "    print(\"Comparisons:\", comparisons_ins, \"Swaps:\", swaps_ins)\n",
    "    print(f\"Time: {end_time_ins - start_time_ins:.6f} seconds\")\n",
    "\n",
    "    print(\"Shell sort method:\")\n",
    "    start_time_shl = time.time()\n",
    "    sorted_array_shl, comparisons_shl, swaps_shl = shell_sort(array_shl)\n",
    "    end_time_shl = time.time()\n",
    "    print(\"Theoretical Compasions: \", size * (log(size) ** 2) // 2, \"Theoretical Swaps: \", size * (log(size) ** 2) // 4)\n",
    "    print(\"Comparisons:\", comparisons_shl, \"Swaps:\", swaps_shl)\n",
    "    print(f\"Time: {end_time_shl - start_time_shl:.6f} seconds\")"
   ],
   "id": "62180939b16a0248",
   "outputs": [],
   "execution_count": 32
  },
  {
   "metadata": {
    "ExecuteTime": {
     "end_time": "2025-03-08T12:01:23.609062Z",
     "start_time": "2025-03-08T12:01:23.596115Z"
    }
   },
   "cell_type": "code",
   "source": "time_of_methods(100)",
   "id": "b3bb08686e15344c",
   "outputs": [
    {
     "name": "stdout",
     "output_type": "stream",
     "text": [
      "\n",
      "Size of massive: 100\n",
      "Insertion sort:\n",
      "Theoretical Compasions:  2524 Theoretical Swaps:  2475\n",
      "Comparisons: 2386 Swaps: 2386\n",
      "Time: 0.000000 seconds\n",
      "Shell sort method:\n",
      "Theoretical Compasions:  1060.0 Theoretical Swaps:  530.0\n",
      "Comparisons: 717 Swaps: 416\n",
      "Time: 0.000000 seconds\n"
     ]
    }
   ],
   "execution_count": 33
  },
  {
   "metadata": {
    "ExecuteTime": {
     "end_time": "2025-03-08T12:01:23.686307Z",
     "start_time": "2025-03-08T12:01:23.638987Z"
    }
   },
   "cell_type": "code",
   "source": "time_of_methods(1000)",
   "id": "32bd3abecaf16e7",
   "outputs": [
    {
     "name": "stdout",
     "output_type": "stream",
     "text": [
      "\n",
      "Size of massive: 1000\n",
      "Insertion sort:\n",
      "Theoretical Compasions:  250249 Theoretical Swaps:  249750\n",
      "Comparisons: 249842 Swaps: 249842\n",
      "Time: 0.032171 seconds\n",
      "Shell sort method:\n",
      "Theoretical Compasions:  23858.0 Theoretical Swaps:  11929.0\n",
      "Comparisons: 14306 Swaps: 9281\n",
      "Time: 0.001000 seconds\n"
     ]
    }
   ],
   "execution_count": 34
  },
  {
   "metadata": {
    "ExecuteTime": {
     "end_time": "2025-03-08T12:01:26.754898Z",
     "start_time": "2025-03-08T12:01:23.704257Z"
    }
   },
   "cell_type": "code",
   "source": "time_of_methods(10000)",
   "id": "c6bddef0c627ad7c",
   "outputs": [
    {
     "name": "stdout",
     "output_type": "stream",
     "text": [
      "\n",
      "Size of massive: 10000\n",
      "Insertion sort:\n",
      "Theoretical Compasions:  25002499 Theoretical Swaps:  24997500\n",
      "Comparisons: 25111152 Swaps: 25111152\n",
      "Time: 3.004724 seconds\n",
      "Shell sort method:\n",
      "Theoretical Compasions:  424151.0 Theoretical Swaps:  212075.0\n",
      "Comparisons: 232151 Swaps: 161323\n",
      "Time: 0.030074 seconds\n"
     ]
    }
   ],
   "execution_count": 35
  }
 ],
 "metadata": {
  "kernelspec": {
   "display_name": "Python 3",
   "language": "python",
   "name": "python3"
  },
  "language_info": {
   "codemirror_mode": {
    "name": "ipython",
    "version": 2
   },
   "file_extension": ".py",
   "mimetype": "text/x-python",
   "name": "python",
   "nbconvert_exporter": "python",
   "pygments_lexer": "ipython2",
   "version": "2.7.6"
  }
 },
 "nbformat": 4,
 "nbformat_minor": 5
}
