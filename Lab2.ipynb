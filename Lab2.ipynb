{
 "cells": [
  {
   "metadata": {},
   "cell_type": "markdown",
   "source": [
    "# Laboratory work No. 2\n",
    "## Array Sorting Methods\n",
    "### Variant 1"
   ],
   "id": "59b72fda9d31f1cf"
  },
  {
   "metadata": {
    "collapsed": true,
    "ExecuteTime": {
     "end_time": "2025-03-06T10:12:32.253664Z",
     "start_time": "2025-03-06T10:12:31.775195Z"
    }
   },
   "cell_type": "code",
   "source": [
    "import numpy as np\n",
    "import time"
   ],
   "id": "initial_id",
   "outputs": [],
   "execution_count": 1
  },
  {
   "metadata": {},
   "cell_type": "markdown",
   "source": "### Insertion sort",
   "id": "eb20ffa5c9c82c52"
  },
  {
   "metadata": {
    "ExecuteTime": {
     "end_time": "2025-03-06T10:12:32.269563Z",
     "start_time": "2025-03-06T10:12:32.265184Z"
    }
   },
   "cell_type": "code",
   "source": [
    "def insertion_sort(array):\n",
    "    comparisons = 0\n",
    "    swaps = 0\n",
    "    array_length = len(array)\n",
    "    for i in range(array_length):\n",
    "        key = array[i]\n",
    "        j = i - 1\n",
    "        while j >= 0 and array[j] > key:\n",
    "            comparisons += 1\n",
    "            array[j + 1] = array[j]\n",
    "            swaps += 1\n",
    "            j -= 1\n",
    "        array[j + 1] = key\n",
    "    return array, comparisons, swaps"
   ],
   "id": "d6fd7d037011f5e6",
   "outputs": [],
   "execution_count": 2
  },
  {
   "metadata": {
    "ExecuteTime": {
     "end_time": "2025-03-06T10:12:32.597657Z",
     "start_time": "2025-03-06T10:12:32.283052Z"
    }
   },
   "cell_type": "code",
   "source": [
    "array_1 = np.random.randint(1, 100, size=10).tolist()\n",
    "print(array_1)\n",
    "sorted_array_ins, comparisons_ins, swaps_ins = insertion_sort(array_1)\n",
    "print(sorted_array_ins, \" Comprasions: \", comparisons_ins, \" Swaps: \", swaps_ins)"
   ],
   "id": "3195ca4fdcf1bbcb",
   "outputs": [
    {
     "name": "stdout",
     "output_type": "stream",
     "text": [
      "[24, 86, 86, 86, 86, 9, 82, 37, 91, 24]\n",
      "[9, 24, 24, 37, 82, 86, 86, 86, 86, 91]  Comprasions:  21  Swaps:  21\n"
     ]
    }
   ],
   "execution_count": 3
  },
  {
   "metadata": {},
   "cell_type": "markdown",
   "source": "### Shell Method",
   "id": "97aa0688fa3cb750"
  },
  {
   "metadata": {
    "ExecuteTime": {
     "end_time": "2025-03-06T10:12:33.209357Z",
     "start_time": "2025-03-06T10:12:33.195837Z"
    }
   },
   "cell_type": "code",
   "source": [
    "def get_gap_sequence(n, sequence_type):\n",
    "        gaps = []\n",
    "        if sequence_type == \"knuth\":\n",
    "            h = 1\n",
    "            while h < n:\n",
    "                gaps.append(h)\n",
    "                h = 3 * h + 1\n",
    "        elif sequence_type == \"hibbard\":\n",
    "            k = 1\n",
    "            while (h := 2**k - 1) < n:\n",
    "                gaps.append(h)\n",
    "                k += 1\n",
    "        elif sequence_type == \"sedgwick\":\n",
    "            k = 0\n",
    "            while True:\n",
    "                if k % 2 == 0:\n",
    "                    h = 9 * (2**k - 2**(k//2)) + 1\n",
    "                else:\n",
    "                    h = 8 * 2**k - 6 * 2**((k+1)//2) + 1\n",
    "                if h >= n:\n",
    "                    break\n",
    "                gaps.append(h)\n",
    "                k += 1\n",
    "        return sorted(gaps, reverse=True)"
   ],
   "id": "1ba55303b297e720",
   "outputs": [],
   "execution_count": 4
  },
  {
   "metadata": {
    "ExecuteTime": {
     "end_time": "2025-03-06T10:12:33.271923Z",
     "start_time": "2025-03-06T10:12:33.252921Z"
    }
   },
   "cell_type": "code",
   "source": [
    "def shell_sort(arr, sequence_type):\n",
    "    n = len(arr)\n",
    "    comparisons = 0\n",
    "    swaps = 0\n",
    "\n",
    "    gaps = get_gap_sequence(n, sequence_type)\n",
    "\n",
    "    for gap in gaps:\n",
    "        for i in range(gap, n):\n",
    "            temp = arr[i]\n",
    "            j = i\n",
    "            while j >= gap:\n",
    "                comparisons += 1\n",
    "                if arr[j - gap] > temp:\n",
    "                    arr[j] = arr[j - gap]\n",
    "                    swaps += 1\n",
    "                    j -= gap\n",
    "                else:\n",
    "                    break\n",
    "            arr[j] = temp\n",
    "\n",
    "    return arr, comparisons, swaps\n"
   ],
   "id": "118809420191adb",
   "outputs": [],
   "execution_count": 5
  },
  {
   "metadata": {
    "ExecuteTime": {
     "end_time": "2025-03-06T10:13:54.590005Z",
     "start_time": "2025-03-06T10:13:48.221813Z"
    }
   },
   "cell_type": "code",
   "source": [
    "array_2 = np.random.randint(1, 100, size=10).tolist()\n",
    "print(array_2)\n",
    "sequence_type = input(\"Choose formula: knuth, hibbard, sedgwick\")\n",
    "sorted_array_shl, comparisons_shl, swaps_shl = shell_sort(array_2, sequence_type)\n",
    "print(sorted_array_shl, \" Comprasions: \", comparisons_shl, \" Swaps: \", swaps_shl)"
   ],
   "id": "8b5d60f29426600a",
   "outputs": [
    {
     "name": "stdout",
     "output_type": "stream",
     "text": [
      "[8, 61, 13, 59, 2, 36, 60, 58, 20, 77]\n",
      "[2, 8, 13, 20, 36, 58, 59, 60, 61, 77]  Comprasions:  27  Swaps:  15\n"
     ]
    }
   ],
   "execution_count": 8
  },
  {
   "metadata": {},
   "cell_type": "markdown",
   "source": "### Comparison of methods",
   "id": "22a4e804bbbd4485"
  },
  {
   "metadata": {
    "ExecuteTime": {
     "end_time": "2025-03-06T10:39:03.460411Z",
     "start_time": "2025-03-06T10:39:03.446678Z"
    }
   },
   "cell_type": "code",
   "source": [
    "def time_of_methods(size):\n",
    "    array_ins = np.random.randint(1, 10001, size=size).tolist()\n",
    "    array_shl = array_ins.copy()\n",
    "    print(f\"\\nSize of massive: {size}\")\n",
    "\n",
    "    print(\"Insertion sort:\")\n",
    "    start_time_ins = time.time()\n",
    "    sorted_array_ins, comparisons_ins, swaps_ins = insertion_sort(array_ins)\n",
    "    end_time_ins = time.time()\n",
    "    print(\"Comparisons:\", comparisons_ins, \"Swaps:\", swaps_ins)\n",
    "    print(f\"Time: {end_time_ins - start_time_ins:.6f} seconds\")\n",
    "\n",
    "    print(\"Shell sort method:\")\n",
    "    start_time_shl = time.time()\n",
    "    sorted_array_shl, comparisons_shl, swaps_shl = shell_sort(array_shl, \"knuth\")\n",
    "    end_time_shl = time.time()\n",
    "    print(\"Comparisons:\", comparisons_shl, \"Swaps:\", swaps_shl)\n",
    "    print(f\"Time: {end_time_shl - start_time_shl:.6f} seconds\")"
   ],
   "id": "62180939b16a0248",
   "outputs": [],
   "execution_count": 24
  },
  {
   "metadata": {
    "ExecuteTime": {
     "end_time": "2025-03-06T10:39:06.125121Z",
     "start_time": "2025-03-06T10:39:06.117748Z"
    }
   },
   "cell_type": "code",
   "source": "time_of_methods(100)",
   "id": "b3bb08686e15344c",
   "outputs": [
    {
     "name": "stdout",
     "output_type": "stream",
     "text": [
      "\n",
      "Size of massive: 100\n",
      "Insertion sort:\n",
      "Comparisons: 2661 Swaps: 2661\n",
      "Time: 0.000658 seconds\n",
      "Shell sort method:\n",
      "Comparisons: 729 Swaps: 432\n",
      "Time: 0.000000 seconds\n"
     ]
    }
   ],
   "execution_count": 25
  },
  {
   "metadata": {
    "ExecuteTime": {
     "end_time": "2025-03-06T10:39:09.872704Z",
     "start_time": "2025-03-06T10:39:09.830248Z"
    }
   },
   "cell_type": "code",
   "source": "time_of_methods(1000)",
   "id": "32bd3abecaf16e7",
   "outputs": [
    {
     "name": "stdout",
     "output_type": "stream",
     "text": [
      "\n",
      "Size of massive: 1000\n",
      "Insertion sort:\n",
      "Comparisons: 249300 Swaps: 249300\n",
      "Time: 0.033982 seconds\n",
      "Shell sort method:\n",
      "Comparisons: 14101 Swaps: 9060\n",
      "Time: 0.002012 seconds\n"
     ]
    }
   ],
   "execution_count": 26
  },
  {
   "metadata": {
    "ExecuteTime": {
     "end_time": "2025-03-06T10:39:15.518170Z",
     "start_time": "2025-03-06T10:39:12.634493Z"
    }
   },
   "cell_type": "code",
   "source": "time_of_methods(10000)",
   "id": "c6bddef0c627ad7c",
   "outputs": [
    {
     "name": "stdout",
     "output_type": "stream",
     "text": [
      "\n",
      "Size of massive: 10000\n",
      "Insertion sort:\n",
      "Comparisons: 24971092 Swaps: 24971092\n",
      "Time: 2.841676 seconds\n",
      "Shell sort method:\n",
      "Comparisons: 233815 Swaps: 162906\n",
      "Time: 0.029992 seconds\n"
     ]
    }
   ],
   "execution_count": 27
  }
 ],
 "metadata": {
  "kernelspec": {
   "display_name": "Python 3",
   "language": "python",
   "name": "python3"
  },
  "language_info": {
   "codemirror_mode": {
    "name": "ipython",
    "version": 2
   },
   "file_extension": ".py",
   "mimetype": "text/x-python",
   "name": "python",
   "nbconvert_exporter": "python",
   "pygments_lexer": "ipython2",
   "version": "2.7.6"
  }
 },
 "nbformat": 4,
 "nbformat_minor": 5
}
