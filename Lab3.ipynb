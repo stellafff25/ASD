{
 "cells": [
  {
   "metadata": {
    "ExecuteTime": {
     "end_time": "2025-04-05T08:31:36.283215Z",
     "start_time": "2025-04-05T08:31:36.266013Z"
    }
   },
   "cell_type": "code",
   "source": [
    "import time\n",
    "import sys"
   ],
   "id": "eeab09a02eeadfcf",
   "outputs": [],
   "execution_count": 37
  },
  {
   "metadata": {},
   "cell_type": "markdown",
   "source": "### Validation",
   "id": "6de120fed7f1ae2"
  },
  {
   "metadata": {
    "ExecuteTime": {
     "end_time": "2025-04-05T08:31:36.298958Z",
     "start_time": "2025-04-05T08:31:36.288951Z"
    }
   },
   "cell_type": "code",
   "source": [
    "def validate_input(text):\n",
    "    if not text.endswith('.'):\n",
    "        print(\"Error: Text must end with a period.\")\n",
    "        return False\n",
    "    words = text[:-1].split()\n",
    "    if not words:\n",
    "        print(\"Error: Input is empty.\")\n",
    "        return False\n",
    "    for word in words:\n",
    "        if not word.isalpha() or not word.islower():\n",
    "            print(f\"Error: Invalid word '{word}'. Only lowercase Latin letters allowed.\")\n",
    "            return False\n",
    "    return True"
   ],
   "id": "37ff8428e0851bad",
   "outputs": [],
   "execution_count": 38
  },
  {
   "metadata": {
    "ExecuteTime": {
     "end_time": "2025-04-05T08:31:40.040669Z",
     "start_time": "2025-04-05T08:31:36.316608Z"
    }
   },
   "cell_type": "code",
   "source": [
    "text = input(\"Enter text (space words, lowercase Latin letters, period at the end):\\n\")\n",
    "if not validate_input(text):\n",
    "    raise ValueError(\"Invalid input\")\n",
    "print(text)"
   ],
   "id": "1c66ffec728418cd",
   "outputs": [
    {
     "name": "stdout",
     "output_type": "stream",
     "text": [
      "apple  banana  cherry  apricot  coconut  almond  blueberry  avocado  cranberry  blackberry  currant  date  fig  grape  guava  honeydew  jackfruit  kiwi  lemon  mango  nectarine  orange  papaya  pear  pineapple  plum  pomegranate  quince  raspberry  strawberry  tangerine  watermelon  lime  lychee  mulberry  olive  passionfruit  persimmon  rambutan  sapote  tamarind  ugli  vanilla  walnut  xigua  yuzu  zucchini.\n"
     ]
    }
   ],
   "execution_count": 39
  },
  {
   "metadata": {},
   "cell_type": "markdown",
   "source": "### Dynamic Array",
   "id": "e5ea8c476723f3ca"
  },
  {
   "metadata": {
    "ExecuteTime": {
     "end_time": "2025-04-05T08:31:40.072095Z",
     "start_time": "2025-04-05T08:31:40.057255Z"
    }
   },
   "cell_type": "code",
   "source": [
    "def process_words_array(words):\n",
    "    first_letter = words[0][0]\n",
    "    result = []\n",
    "    for word in words:\n",
    "        if word[0] != first_letter:\n",
    "            capitalized = word[0].upper() + word[1:]\n",
    "            result.append(capitalized)\n",
    "    return result\n",
    "\n",
    "def dynamic_array_solution(text):\n",
    "    words = text[:-1].split()\n",
    "\n",
    "    start = time.time()\n",
    "    result = process_words_array(words)\n",
    "    end = time.time()\n",
    "\n",
    "    memory_used = sys.getsizeof(words) + sum(sys.getsizeof(w) for w in words)\n",
    "\n",
    "    print(\"\\nResult (Array):\", result)\n",
    "    print(f\"Execution time: {end - start:.10f} sec\")\n",
    "    print(f\"Memory used: {memory_used} bytes\")"
   ],
   "id": "8ea8166dc34a2524",
   "outputs": [],
   "execution_count": 40
  },
  {
   "metadata": {
    "ExecuteTime": {
     "end_time": "2025-04-05T08:31:40.102122Z",
     "start_time": "2025-04-05T08:31:40.096777Z"
    }
   },
   "cell_type": "code",
   "source": "dynamic_array_solution(text)",
   "id": "bcf3429e7f355eba",
   "outputs": [
    {
     "name": "stdout",
     "output_type": "stream",
     "text": [
      "\n",
      "Result (Array): ['Banana', 'Cherry', 'Coconut', 'Blueberry', 'Cranberry', 'Blackberry', 'Currant', 'Date', 'Fig', 'Grape', 'Guava', 'Honeydew', 'Jackfruit', 'Kiwi', 'Lemon', 'Mango', 'Nectarine', 'Orange', 'Papaya', 'Pear', 'Pineapple', 'Plum', 'Pomegranate', 'Quince', 'Raspberry', 'Strawberry', 'Tangerine', 'Watermelon', 'Lime', 'Lychee', 'Mulberry', 'Olive', 'Passionfruit', 'Persimmon', 'Rambutan', 'Sapote', 'Tamarind', 'Ugli', 'Vanilla', 'Walnut', 'Xigua', 'Yuzu', 'Zucchini']\n",
      "Execution time: 0.0010001659 sec\n",
      "Memory used: 3127 bytes\n"
     ]
    }
   ],
   "execution_count": 41
  },
  {
   "metadata": {},
   "cell_type": "markdown",
   "source": "### Doubly linked List",
   "id": "c68e12af14744201"
  },
  {
   "metadata": {
    "ExecuteTime": {
     "end_time": "2025-04-05T08:31:40.164290Z",
     "start_time": "2025-04-05T08:31:40.149518Z"
    }
   },
   "cell_type": "code",
   "source": [
    "class Node:\n",
    "    def __init__(self, value):\n",
    "        self.value = value\n",
    "        self.prev = None\n",
    "        self.next = None\n",
    "\n",
    "class DoublyLinkedList:\n",
    "    def __init__(self):\n",
    "        self.head = None\n",
    "        self.tail = None\n",
    "\n",
    "    def insert_end(self, value):\n",
    "        new_node = Node(value)\n",
    "        if not self.tail:\n",
    "            self.head = self.tail = new_node\n",
    "        else:\n",
    "            self.tail.next = new_node\n",
    "            new_node.prev = self.tail\n",
    "            self.tail = new_node\n",
    "\n",
    "    def process(self):\n",
    "        if not self.head:\n",
    "            print(\"Error: List is empty.\")\n",
    "            return []\n",
    "\n",
    "        result = []\n",
    "        first_letter = self.head.value[0]\n",
    "        current = self.head\n",
    "\n",
    "        while current:\n",
    "            if current.value[0] != first_letter:\n",
    "                capitalized = current.value[0].upper() + current.value[1:]\n",
    "                result.append(capitalized)\n",
    "            current = current.next\n",
    "        return result\n",
    "\n",
    "def linked_list_solution(text):\n",
    "    words = text[:-1].split()\n",
    "    dll = DoublyLinkedList()\n",
    "\n",
    "    for word in words:\n",
    "        dll.insert_end(word)\n",
    "\n",
    "    start = time.time()\n",
    "    result = dll.process()\n",
    "    end = time.time()\n",
    "\n",
    "    memory_used = sys.getsizeof(dll) + len(words) * sys.getsizeof(Node(\"\"))\n",
    "\n",
    "    print(\"\\nResult (Linked List):\", result)\n",
    "    print(f\"Execution time: {end - start:.10f} sec\")\n",
    "    print(f\"Memory used: {memory_used} bytes\")"
   ],
   "id": "f213a1bb40c704e8",
   "outputs": [],
   "execution_count": 42
  },
  {
   "metadata": {
    "ExecuteTime": {
     "end_time": "2025-04-05T08:31:40.195698Z",
     "start_time": "2025-04-05T08:31:40.186680Z"
    }
   },
   "cell_type": "code",
   "source": "linked_list_solution(text)",
   "id": "402c6c214e8d072b",
   "outputs": [
    {
     "name": "stdout",
     "output_type": "stream",
     "text": [
      "\n",
      "Result (Linked List): ['Banana', 'Cherry', 'Coconut', 'Blueberry', 'Cranberry', 'Blackberry', 'Currant', 'Date', 'Fig', 'Grape', 'Guava', 'Honeydew', 'Jackfruit', 'Kiwi', 'Lemon', 'Mango', 'Nectarine', 'Orange', 'Papaya', 'Pear', 'Pineapple', 'Plum', 'Pomegranate', 'Quince', 'Raspberry', 'Strawberry', 'Tangerine', 'Watermelon', 'Lime', 'Lychee', 'Mulberry', 'Olive', 'Passionfruit', 'Persimmon', 'Rambutan', 'Sapote', 'Tamarind', 'Ugli', 'Vanilla', 'Walnut', 'Xigua', 'Yuzu', 'Zucchini']\n",
      "Execution time: 0.0000000000 sec\n",
      "Memory used: 2304 bytes\n"
     ]
    }
   ],
   "execution_count": 43
  }
 ],
 "metadata": {
  "kernelspec": {
   "display_name": "Python 3",
   "language": "python",
   "name": "python3"
  },
  "language_info": {
   "codemirror_mode": {
    "name": "ipython",
    "version": 2
   },
   "file_extension": ".py",
   "mimetype": "text/x-python",
   "name": "python",
   "nbconvert_exporter": "python",
   "pygments_lexer": "ipython2",
   "version": "2.7.6"
  }
 },
 "nbformat": 4,
 "nbformat_minor": 5
}
